{
 "cells": [
  {
   "cell_type": "code",
   "execution_count": null,
   "id": "8d4a398a-a0ba-47db-8a5a-e9177ca44780",
   "metadata": {},
   "outputs": [],
   "source": [
    "import os\n",
    "from ultralytics import YOLO\n",
    "import matplotlib.pyplot as plt\n"
   ]
  },
  {
   "cell_type": "code",
   "execution_count": null,
   "id": "6246aad1-8bb7-4b53-9475-fd78d75ef2df",
   "metadata": {},
   "outputs": [],
   "source": [
    "# Define the path to the dataset configuration file\n",
    "data_yaml = 'D:/nada/grad_project/Car Plate Recognition - Final/datasets/plates.yaml'  # Update with your actual path\n",
    "\n",
    "# Define the model architecture to use (e.g., YOLOv8n, YOLOv8s, etc.)\n",
    "model_architecture = 'yolov8n.pt'  # Choose based on your resource availability\n"
   ]
  },
  {
   "cell_type": "code",
   "execution_count": null,
   "id": "78d4012d-42ad-4ec1-8fab-a7e76679e8b3",
   "metadata": {},
   "outputs": [],
   "source": [
    "# Load a pre-trained YOLOv8 model\n",
    "model = YOLO(model_architecture)\n",
    "model_cont = YOLO(\"D:/nada/grad_project/Car Plate Recognition - Final/runs/detect/train_ALPR1_detect12/weights/last.pt\")\n"
   ]
  },
  {
   "cell_type": "code",
   "execution_count": null,
   "id": "8e3cfb91-a513-4a28-afa3-cca29a1d9d79",
   "metadata": {},
   "outputs": [],
   "source": [
    "# 🛠️ Hyperparameters\n",
    "epochs = 100                  # You can go high since we use early stopping\n",
    "batch_size = 16               # Balanced batch size\n",
    "imgsz = 640                   # Default image size\n",
    "learning_rate = 1e-3          # Initial LR\n",
    "weight_decay = 5e-4          # Regularization"
   ]
  },
  {
   "cell_type": "code",
   "execution_count": null,
   "id": "cc0e295d-1517-4f69-ad33-a1369f7b95c5",
   "metadata": {},
   "outputs": [],
   "source": [
    "# 🚀 Train the model\n",
    "results = model.train(\n",
    "    project='runs/detect',  # Base directory\n",
    "    name='train_ALPR1_detect1_cont',    # New subdirectory name\n",
    "    data=data_yaml,\n",
    "    epochs=epochs,\n",
    "    batch=batch_size,\n",
    "    imgsz=imgsz,\n",
    "    lr0=learning_rate,\n",
    "    weight_decay=weight_decay,\n",
    "    patience=10,              # ⏱️ Early stopping if val loss doesn’t improve for 10 epochs\n",
    "    optimizer=\"Adam\",         # 🔄 Optimizer\n",
    "    cos_lr=True,              # 📉 CosineAnnealingLR: gradual learning rate decay\n",
    "    verbose=True              # 🧪 Logs during training\n",
    "    \n",
    ")"
   ]
  },
  {
   "cell_type": "code",
   "execution_count": null,
   "id": "c2c16b4e-5bf3-4d77-a02c-9c49937206a6",
   "metadata": {},
   "outputs": [],
   "source": [
    "# 🔍 Evaluate model on validation data\n",
    "val_results = model.val(data=data_yaml)\n"
   ]
  },
  {
   "cell_type": "code",
   "execution_count": null,
   "id": "70907ea1-0cd1-4d90-a112-8e1fb3a39501",
   "metadata": {},
   "outputs": [],
   "source": []
  }
 ],
 "metadata": {
  "kernelspec": {
   "display_name": "myenv",
   "language": "python",
   "name": "myenv"
  },
  "language_info": {
   "codemirror_mode": {
    "name": "ipython",
    "version": 3
   },
   "file_extension": ".py",
   "mimetype": "text/x-python",
   "name": "python",
   "nbconvert_exporter": "python",
   "pygments_lexer": "ipython3",
   "version": "3.11.11"
  }
 },
 "nbformat": 4,
 "nbformat_minor": 5
}
