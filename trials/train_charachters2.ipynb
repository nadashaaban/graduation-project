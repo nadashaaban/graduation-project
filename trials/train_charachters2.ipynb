{
 "cells": [
  {
   "cell_type": "code",
   "execution_count": null,
   "id": "df4ddf91-e444-49f4-b485-7603f50e5ba3",
   "metadata": {},
   "outputs": [],
   "source": [
    "import os\n",
    "from ultralytics import YOLO\n",
    "import matplotlib.pyplot as plt\n",
    "import torch\n",
    "print(torch.cuda.is_available())\n",
    "\n"
   ]
  },
  {
   "cell_type": "code",
   "execution_count": null,
   "id": "0a68111f-353a-4188-a10f-627dbfeedcaa",
   "metadata": {},
   "outputs": [],
   "source": [
    "# Define the path to the dataset configuration file\n",
    "data_yaml = 'D:/nada/grad_project/Car Plate Recognition - Final/datasets/letters.yaml'  # Update with your actual path\n",
    "\n",
    "# Define the model architecture to use (e.g., YOLOv8n, YOLOv8s, etc.)\n",
    "\n",
    "#model_architecture = 'yolov8n.pt'  # Choose based on your resource availability\n",
    "model_architecture = 'D:/nada/grad_project/Car Plate Recognition - Final/runs/letters/train_letters2/weights/last.pt'\n",
    "#model_architecture ='letters_last.pt'\n"
   ]
  },
  {
   "cell_type": "code",
   "execution_count": null,
   "id": "b999ced2-7035-4ce9-a4f9-d63e18b4c456",
   "metadata": {},
   "outputs": [],
   "source": [
    "# Load a pre-trained YOLOv8 model\n",
    "model = YOLO(model_architecture)\n"
   ]
  },
  {
   "cell_type": "code",
   "execution_count": null,
   "id": "cee78d0e-6798-4437-966d-6dc3e543501b",
   "metadata": {},
   "outputs": [],
   "source": [
    "# 🛠️ Hyperparameters\n",
    "epochs = 100                  # You can go high since we use early stopping\n",
    "batch_size = 16               # Balanced batch size\n",
    "imgsz = 640                   # Default image size\n",
    "learning_rate = 1e-3          # Initial LR\n",
    "weight_decay = 5e-4          # Regularization"
   ]
  },
  {
   "cell_type": "code",
   "execution_count": null,
   "id": "ae70b772-edd2-4c3f-a5e5-47b750b6f215",
   "metadata": {},
   "outputs": [],
   "source": [
    "# 🚀 Train the model\n",
    "results = model.train(\n",
    "    project='runs/letters',  # Base directory\n",
    "    name='train_letters2',    # New subdirectory name\n",
    "    data=data_yaml,\n",
    "    epochs=epochs,\n",
    "    batch=batch_size,\n",
    "    imgsz=imgsz,\n",
    "    lr0=learning_rate,\n",
    "    weight_decay=weight_decay,\n",
    "    patience=10,              # ⏱️ Early stopping if val loss doesn’t improve for 10 epochs\n",
    "    optimizer=\"Adam\",         # 🔄 Optimizer\n",
    "    cos_lr=True,              # 📉 CosineAnnealingLR: gradual learning rate decay\n",
    "    verbose=True,              # 🧪 Logs during training\n",
    "    resume = True \n",
    ")"
   ]
  },
  {
   "cell_type": "code",
   "execution_count": null,
   "id": "430bc0a0-57d3-44bb-9e19-d7f06842bcd3",
   "metadata": {},
   "outputs": [],
   "source": [
    "# 🔍 Evaluate model on validation data\n",
    "val_results = model.val(data=data_yaml)"
   ]
  },
  {
   "cell_type": "code",
   "execution_count": null,
   "id": "c2721c96-c639-4316-991b-83847ba4bfe1",
   "metadata": {},
   "outputs": [],
   "source": []
  }
 ],
 "metadata": {
  "kernelspec": {
   "display_name": "myenv",
   "language": "python",
   "name": "myenv"
  },
  "language_info": {
   "codemirror_mode": {
    "name": "ipython",
    "version": 3
   },
   "file_extension": ".py",
   "mimetype": "text/x-python",
   "name": "python",
   "nbconvert_exporter": "python",
   "pygments_lexer": "ipython3",
   "version": "3.11.11"
  }
 },
 "nbformat": 4,
 "nbformat_minor": 5
}
