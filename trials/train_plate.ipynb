{
 "cells": [
  {
   "cell_type": "code",
   "execution_count": null,
   "id": "f3cc1312-13d7-4cdd-a764-5029a0362a35",
   "metadata": {},
   "outputs": [],
   "source": [
    "import os\n",
    "from ultralytics import YOLO\n",
    "import matplotlib.pyplot as plt\n"
   ]
  },
  {
   "cell_type": "code",
   "execution_count": null,
   "id": "6de5dde0-5f73-42d8-8466-210778c9277f",
   "metadata": {},
   "outputs": [],
   "source": [
    "# Define the path to the dataset configuration file\n",
    "data_yaml = 'D:/nada/grad_project/Car Plate Recognition - Final/datasets/plates.yaml'  # Update with your actual path\n",
    "\n",
    "# Define the model architecture to use (e.g., YOLOv8n, YOLOv8s, etc.)\n",
    "model_architecture = 'yolov8n.pt'  # Choose based on your resource availability\n"
   ]
  },
  {
   "cell_type": "code",
   "execution_count": null,
   "id": "842ebb26-170d-4777-9b0e-da77e42b68a3",
   "metadata": {},
   "outputs": [],
   "source": [
    "# Load a pre-trained YOLOv8 model\n",
    "model = YOLO(model_architecture)\n"
   ]
  },
  {
   "cell_type": "code",
   "execution_count": null,
   "id": "fb64b9b8-f3ba-4228-959a-15918d997162",
   "metadata": {},
   "outputs": [],
   "source": [
    "# 🛠️ Hyperparameters\n",
    "epochs = 50                  # You can go high since we use early stopping\n",
    "batch_size = 16               # Balanced batch size\n",
    "imgsz = 640                   # Default image size\n",
    "learning_rate = 1e-3          # Initial LR\n",
    "weight_decay = 5e-4          # Regularization"
   ]
  },
  {
   "cell_type": "code",
   "execution_count": null,
   "id": "c4ead887-1ff1-4454-8fca-1ab0f48ec124",
   "metadata": {},
   "outputs": [],
   "source": [
    "# 🚀 Train the model\n",
    "results = model.train(\n",
    "    data=data_yaml,\n",
    "    epochs=epochs,\n",
    "    batch=batch_size,\n",
    "    imgsz=imgsz,\n",
    "    lr0=learning_rate,\n",
    "    weight_decay=weight_decay,\n",
    "    patience=10,              # ⏱️ Early stopping if val loss doesn’t improve for 10 epochs\n",
    "    optimizer=\"Adam\",         # 🔄 Optimizer\n",
    "    cos_lr=True,              # 📉 CosineAnnealingLR: gradual learning rate decay\n",
    "    verbose=True              # 🧪 Logs during training\n",
    ")"
   ]
  },
  {
   "cell_type": "code",
   "execution_count": null,
   "id": "515e9b9a-ea6c-4596-b0a3-1b5a194bf43f",
   "metadata": {},
   "outputs": [],
   "source": [
    "# 🔍 Evaluate model on validation data\n",
    "val_results = model.val(data=data_yaml)\n"
   ]
  },
  {
   "cell_type": "code",
   "execution_count": null,
   "id": "5c6c845e-1e2b-4851-9b92-09098ccbd965",
   "metadata": {},
   "outputs": [],
   "source": []
  }
 ],
 "metadata": {
  "kernelspec": {
   "display_name": "myenv",
   "language": "python",
   "name": "myenv"
  },
  "language_info": {
   "codemirror_mode": {
    "name": "ipython",
    "version": 3
   },
   "file_extension": ".py",
   "mimetype": "text/x-python",
   "name": "python",
   "nbconvert_exporter": "python",
   "pygments_lexer": "ipython3",
   "version": "3.11.11"
  }
 },
 "nbformat": 4,
 "nbformat_minor": 5
}
